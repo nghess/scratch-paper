{
  "nbformat": 4,
  "nbformat_minor": 0,
  "metadata": {
    "colab": {
      "name": "ez_calc_notes.ipynb",
      "provenance": [],
      "collapsed_sections": [],
      "authorship_tag": "ABX9TyPwL6gIQvxbdL9EzgPbIlhL",
      "include_colab_link": true
    },
    "kernelspec": {
      "name": "python3",
      "display_name": "Python 3"
    },
    "language_info": {
      "name": "python"
    }
  },
  "cells": [
    {
      "cell_type": "markdown",
      "metadata": {
        "id": "view-in-github",
        "colab_type": "text"
      },
      "source": [
        "<a href=\"https://colab.research.google.com/github/nghess/scratch-paper/blob/main/ez_calc_notes.ipynb\" target=\"_parent\"><img src=\"https://colab.research.google.com/assets/colab-badge.svg\" alt=\"Open In Colab\"/></a>"
      ]
    },
    {
      "cell_type": "markdown",
      "source": [
        "##Chapter 2 - What is a Limit?"
      ],
      "metadata": {
        "id": "b4pzCrhExwsK"
      }
    },
    {
      "cell_type": "code",
      "execution_count": null,
      "metadata": {
        "id": "8pbeXqZOr7yn"
      },
      "outputs": [],
      "source": [
        "# Going past a limit then converging\n",
        "n_list = []\n",
        "n = 2\n",
        "\n",
        "for i in range(12):\n",
        "  n_list.append(n)\n",
        "  n *= 2"
      ]
    },
    {
      "cell_type": "code",
      "source": [
        "x_list = []\n",
        "c = 0\n",
        "\n",
        "for n in n_list:\n",
        "  c += 1 \n",
        "  x = 1/n\n",
        "  if c%2 == 0:\n",
        "    x = -x\n",
        "  x_list.append(x)\n",
        "\n",
        "x_list"
      ],
      "metadata": {
        "colab": {
          "base_uri": "https://localhost:8080/"
        },
        "id": "0KCF4ZsuszZk",
        "outputId": "aa440418-ad15-402c-8dcc-54666b033021"
      },
      "execution_count": null,
      "outputs": [
        {
          "output_type": "execute_result",
          "data": {
            "text/plain": [
              "[0.5,\n",
              " -0.25,\n",
              " 0.125,\n",
              " -0.0625,\n",
              " 0.03125,\n",
              " -0.015625,\n",
              " 0.0078125,\n",
              " -0.00390625,\n",
              " 0.001953125,\n",
              " -0.0009765625,\n",
              " 0.00048828125,\n",
              " -0.000244140625]"
            ]
          },
          "metadata": {},
          "execution_count": 20
        }
      ]
    },
    {
      "cell_type": "code",
      "source": [
        "for i in range(len(x_list)):\n",
        "  partial_sum = sum(x_list[:i+1])\n",
        "  print(partial_sum)\n"
      ],
      "metadata": {
        "colab": {
          "base_uri": "https://localhost:8080/"
        },
        "id": "kD9pboo6uFdf",
        "outputId": "1eb1fa6a-980c-4c7b-96b7-b528587af6ae"
      },
      "execution_count": null,
      "outputs": [
        {
          "output_type": "stream",
          "name": "stdout",
          "text": [
            "0.5\n",
            "0.25\n",
            "0.375\n",
            "0.3125\n",
            "0.34375\n",
            "0.328125\n",
            "0.3359375\n",
            "0.33203125\n",
            "0.333984375\n",
            "0.3330078125\n",
            "0.33349609375\n",
            "0.333251953125\n"
          ]
        }
      ]
    },
    {
      "cell_type": "markdown",
      "source": [
        "##Chapter 3 - What is a Derivative?"
      ],
      "metadata": {
        "id": "Ah5UHqm_x3IV"
      }
    },
    {
      "cell_type": "code",
      "source": [
        ""
      ],
      "metadata": {
        "id": "YEF3S0xnx-fr"
      },
      "execution_count": null,
      "outputs": []
    }
  ]
}